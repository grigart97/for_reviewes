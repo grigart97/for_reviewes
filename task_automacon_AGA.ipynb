{
 "cells": [
  {
   "cell_type": "code",
   "execution_count": 1,
   "id": "ebe534a0",
   "metadata": {},
   "outputs": [],
   "source": [
    "import numpy as np\n",
    "from scipy import stats "
   ]
  },
  {
   "cell_type": "markdown",
   "id": "15990492",
   "metadata": {},
   "source": [
    "## Тестовое задание:  \n",
    "Было запущено 2 рекламные компании одного и того же продукта.  \n",
    "Первые результаты были следующими:  \n",
    "* среди мужской аудитории было 3000 показов рекламы и 130 кликов  \n",
    "* среди женской аудитории было 980 показов и 50 кликов  \n",
    "\n",
    "Можно ли с вероятностью 95% утверждать, что в дальнейшем конверсия среди женской аудитории будет выше, чем среди мужской."
   ]
  },
  {
   "cell_type": "markdown",
   "id": "47938740",
   "metadata": {},
   "source": [
    "## Ответ  \n",
    "\n",
    "Данная задача является стандартным представителем однофакторного дисперсионного анализа, на одну переменную $Y$ влияет один фактор, наблюдаемый в $k$ выборках. В данных задачах проверяется гипотеза  $H_0$ о равенстве __средних значений__ по каждой выборке. Разница лишь в том, что здесь среднее значение указано не явно, как и шкала измерения исследуемых выборок, а также сформулированна правосторонняя обратная гипотеза, вместо нулевой.   \n",
    "Данная выборки указывают на вероятность клика (_\"дальнейшая конверсия\"_) среди мужской и женской аудиторий."
   ]
  },
  {
   "cell_type": "markdown",
   "id": "c8fe03db",
   "metadata": {},
   "source": [
    "Итак, давайте сформулируем задачу явно  \n",
    "__Дано__:\n",
    "* $H_0$ (_нулевая гипотеза_) - среднее значение дальнейшей конверсии среди мужской и женской аудиторий равны или незначительно отличаются;\n",
    "* $\\alpha$ (_уровень значимости_) - `0.05` (или `5%`)  "
   ]
  },
  {
   "cell_type": "markdown",
   "id": "1193a4fa",
   "metadata": {},
   "source": [
    "## Как будем решать\n",
    "\n",
    "В предположении верности гипотезы  $H_0$ статистика $T$ имеет распределение Фишера. Для выбранного уровня значимости $\\alpha$ можно рассчитать критическое значение  $F_{crit}$, равное квантилю порядка $1-\\alpha$. Если $T>F_{crit}$, то гипотеза $H_0$ отвергается.\n",
    "\n",
    "### Немного теории и формул"
   ]
  },
  {
   "cell_type": "markdown",
   "id": "83439ece",
   "metadata": {},
   "source": [
    "Формула определения T-статистики:\n",
    "$$T=\\frac{\\sigma_b^2}{\\sigma_w^2}$$"
   ]
  },
  {
   "cell_type": "markdown",
   "id": "8c3a77e5",
   "metadata": {},
   "source": [
    "где $\\sigma_b^2 \\, и \\, \\sigma_w^2$ - несмещённые оценки дисперсии:\n",
    "$$\\sigma_b^2=\\frac{S_b^2}{k-1},\\enspace \\sigma_w^2=\\frac{S_w^2}{n-k}$$"
   ]
  },
  {
   "cell_type": "markdown",
   "id": "2c5e87c5",
   "metadata": {},
   "source": [
    "где:\n",
    "* $k$ - количество выборок (упоминали ранее, но считаю, что можно повторить);\n",
    "* $n$ - общее количество наблюдений во всех выборках;\n",
    "* $S_b^2$ - сумму квадратов отклонений средних значений выборок от общего среднего значения;\n",
    "* $S_w^2$ - остаточная сумма квадратов отклонений."
   ]
  },
  {
   "cell_type": "markdown",
   "id": "fdbea2c5",
   "metadata": {},
   "source": [
    "$$S_b^2=\\sum_{i=1}^k(\\overline{y_i}-\\overline{y})^2\\cdot n_i,\\enspace \n",
    "S_w^2=\\sum_{i=1}^k\\sum_{j=1}^{n_i}(y_{ij}-\\overline{y_i})^2$$"
   ]
  },
  {
   "cell_type": "markdown",
   "id": "b8195176",
   "metadata": {},
   "source": [
    "### Используя все эти знания, можно решить поставленную задачу"
   ]
  },
  {
   "cell_type": "markdown",
   "id": "3c4a1547",
   "metadata": {},
   "source": [
    "Для удобства приму переменную $y_i$ за дальнейшую конверсию выборок, где $i$ - обозначение одной из выборок (пусть $m$ - мужская аудитория (male), $f$ - женская аудитория (female)).  \n",
    "* $\\overline{y_m}$ (Среднее значение дальнейшей конверсии среди мужской аудитории) $=\\frac{130}{3000}$;  \n",
    "* $\\overline{y_f}$ (Среднее значение дальнейшей конверсии среди женской аудитории) $=\\frac{50}{980}$;\n",
    "* $n$ - $3980$ (3000 мужской аудитории и 980 женской аудитории);\n",
    "* $k$ - $2$ (мужская и женская)"
   ]
  },
  {
   "cell_type": "code",
   "execution_count": 2,
   "id": "0b94f062",
   "metadata": {},
   "outputs": [
    {
     "data": {
      "text/plain": [
       "(0.043333333333333335, 0.05102040816326531)"
      ]
     },
     "execution_count": 2,
     "metadata": {},
     "output_type": "execute_result"
    }
   ],
   "source": [
    "n_m = 3000\n",
    "n_f = 980\n",
    "n_all = n_m + n_f\n",
    "k = 2\n",
    "alpha = 0.05\n",
    "conv_m_mean = 130 / n_m # conversion male mean\n",
    "conv_f_mean = 50 / n_f # conversion female mean\n",
    "\n",
    "males = np.hstack((np.zeros(int(n_m * (1 - conv_m_mean))), np.ones(int(n_m * conv_m_mean))))\n",
    "females = np.hstack((np.zeros(int(n_f * (1 - conv_f_mean))), np.ones(int(n_f * conv_f_mean))))\n",
    "_all = np.concatenate((males, females))\n",
    "\n",
    "conv_m_mean, conv_f_mean"
   ]
  },
  {
   "cell_type": "code",
   "execution_count": 3,
   "id": "7728173a",
   "metadata": {},
   "outputs": [
    {
     "data": {
      "text/plain": [
       "0.04522613065326633"
      ]
     },
     "execution_count": 3,
     "metadata": {},
     "output_type": "execute_result"
    }
   ],
   "source": [
    "# Вычислим среднее значение обеих выборок. Оно пригодится нам для дальнейших расчётов\n",
    "\n",
    "conv_mean = _all.mean()\n",
    "conv_mean # conversion all mean"
   ]
  },
  {
   "cell_type": "code",
   "execution_count": 4,
   "id": "cac39c7d",
   "metadata": {},
   "outputs": [
    {
     "data": {
      "text/plain": [
       "0.043650223908658935"
      ]
     },
     "execution_count": 4,
     "metadata": {},
     "output_type": "execute_result"
    }
   ],
   "source": [
    "S_b = (conv_m_mean - conv_mean) ** 2 * n_m + (conv_f_mean - conv_mean) ** 2 * n_f\n",
    "S_b"
   ]
  },
  {
   "cell_type": "code",
   "execution_count": 5,
   "id": "2b1c2cc8",
   "metadata": {},
   "outputs": [
    {
     "data": {
      "text/plain": [
       "171.81564625850336"
      ]
     },
     "execution_count": 5,
     "metadata": {},
     "output_type": "execute_result"
    }
   ],
   "source": [
    "S_w = ((males - conv_m_mean) ** 2).sum() + ((females - conv_f_mean) ** 2).sum()\n",
    "S_w"
   ]
  },
  {
   "cell_type": "markdown",
   "id": "072e1bbb",
   "metadata": {},
   "source": [
    "Можно проверить верность вычисления сумм с помощью суммы квадратов отклонений наблюдений от общего среднего:"
   ]
  },
  {
   "cell_type": "markdown",
   "id": "f802d6ed",
   "metadata": {},
   "source": [
    "$$S^2=\\sum_{i=1}^k\\sum_{j=1}^{n_i}(y_{ij}-\\overline{y})^2$$"
   ]
  },
  {
   "cell_type": "code",
   "execution_count": 6,
   "id": "e1dd4a26",
   "metadata": {},
   "outputs": [
    {
     "name": "stdout",
     "output_type": "stream",
     "text": [
      "171.85929648241208\n",
      "171.85929648241202\n"
     ]
    }
   ],
   "source": [
    "S = ((np.concatenate((males, females)) - conv_mean) ** 2).sum()\n",
    "print(S)\n",
    "print(S_w + S_b) # незначительное отколение также можно списать на ограничение компьютерных вычислений."
   ]
  },
  {
   "cell_type": "code",
   "execution_count": 7,
   "id": "f95fc911",
   "metadata": {},
   "outputs": [
    {
     "data": {
      "text/plain": [
       "(0.043650223908658935, 0.04319146462003604)"
      ]
     },
     "execution_count": 7,
     "metadata": {},
     "output_type": "execute_result"
    }
   ],
   "source": [
    "sigma_b = S_b / (k - 1)\n",
    "sigma_w = S_w / (n_all - k)\n",
    "sigma_b, sigma_w"
   ]
  },
  {
   "cell_type": "code",
   "execution_count": 8,
   "id": "c47cda24",
   "metadata": {},
   "outputs": [
    {
     "data": {
      "text/plain": [
       "1.0106215265599046"
      ]
     },
     "execution_count": 8,
     "metadata": {},
     "output_type": "execute_result"
    }
   ],
   "source": [
    "T = sigma_b / sigma_w\n",
    "T"
   ]
  },
  {
   "cell_type": "code",
   "execution_count": 9,
   "id": "efbfe66c",
   "metadata": {},
   "outputs": [
    {
     "data": {
      "text/plain": [
       "3.8437975159688866"
      ]
     },
     "execution_count": 9,
     "metadata": {},
     "output_type": "execute_result"
    }
   ],
   "source": [
    "F_crit = stats.f.ppf(1 - alpha, k-1, n_all-k)\n",
    "F_crit"
   ]
  },
  {
   "cell_type": "code",
   "execution_count": 10,
   "id": "7884f686",
   "metadata": {
    "scrolled": true
   },
   "outputs": [
    {
     "data": {
      "text/plain": [
       "0.31481513123106797"
      ]
     },
     "execution_count": 10,
     "metadata": {},
     "output_type": "execute_result"
    }
   ],
   "source": [
    "p = 1 - stats.f.cdf(T, k-1, n_all-k)\n",
    "p"
   ]
  },
  {
   "cell_type": "markdown",
   "id": "53f7ac56",
   "metadata": {},
   "source": [
    "Видно, что $T < F_{crit}$, что свидетельствует о том, что отличие средних значений дальнейшей конверсии разных полов не является статистически значимым."
   ]
  },
  {
   "cell_type": "markdown",
   "id": "be021f77",
   "metadata": {},
   "source": [
    "## Ответ на поставленный вопрос\n",
    "Нельзя с вероятностью 95% утверждать, что в дальнейшем конверсия среди женской аудитории будет выше, чем среди мужской."
   ]
  },
  {
   "cell_type": "markdown",
   "id": "7155b54d",
   "metadata": {},
   "source": [
    "## Вариант решения побыстрее"
   ]
  },
  {
   "cell_type": "code",
   "execution_count": 11,
   "id": "e2733262",
   "metadata": {},
   "outputs": [
    {
     "data": {
      "text/plain": [
       "F_onewayResult(statistic=1.0106215265599028, pvalue=0.3148151312289337)"
      ]
     },
     "execution_count": 11,
     "metadata": {},
     "output_type": "execute_result"
    }
   ],
   "source": [
    "stats.f_oneway(males, females)"
   ]
  }
 ],
 "metadata": {
  "kernelspec": {
   "display_name": "Python 3 (ipykernel)",
   "language": "python",
   "name": "python3"
  },
  "language_info": {
   "codemirror_mode": {
    "name": "ipython",
    "version": 3
   },
   "file_extension": ".py",
   "mimetype": "text/x-python",
   "name": "python",
   "nbconvert_exporter": "python",
   "pygments_lexer": "ipython3",
   "version": "3.9.6"
  }
 },
 "nbformat": 4,
 "nbformat_minor": 5
}
